{
 "cells": [
  {
   "cell_type": "markdown",
   "metadata": {},
   "source": [
    "# LiveProject discovering disease outbreaks\n",
    "\n",
    "## Extract City and Country Information from News Headlines\n",
    "\n",
    "### Parsing the News Headlines\n",
    "\n",
    "Start by reading the headlines"
   ]
  },
  {
   "cell_type": "code",
   "execution_count": 1,
   "metadata": {},
   "outputs": [],
   "source": [
    "import numpy as np\n",
    "import pandas as pd\n",
    "import geonamescache\n",
    "import re\n",
    "\n",
    "gc = geonamescache.GeonamesCache()"
   ]
  },
  {
   "cell_type": "code",
   "execution_count": 2,
   "metadata": {},
   "outputs": [],
   "source": [
    "# Open our headlines file\n",
    "with open('data/headlines.txt', 'r') as f:\n",
    "    lines = f.read().splitlines()"
   ]
  },
  {
   "cell_type": "code",
   "execution_count": 3,
   "metadata": {},
   "outputs": [],
   "source": [
    "# Get list of countries\n",
    "countries = gc.get_countries()\n",
    "countries_list = []\n",
    "for key in countries:\n",
    "    name = countries[key]['name']\n",
    "    countries_list.append(name)"
   ]
  },
  {
   "cell_type": "code",
   "execution_count": 4,
   "metadata": {},
   "outputs": [],
   "source": [
    "def find_country_in_words(words):\n",
    "    foundCountry = None\n",
    "    for word in words:\n",
    "        if word in countries_list:\n",
    "            foundCountry=word\n",
    "            break\n",
    "    return foundCountry"
   ]
  },
  {
   "cell_type": "code",
   "execution_count": 5,
   "metadata": {},
   "outputs": [],
   "source": [
    "def find_city_in_words(words):\n",
    "    foundCity = None\n",
    "    for word in words:\n",
    "        city = gc.get_cities_by_name(word)\n",
    "        if city:\n",
    "            foundCity=word\n",
    "            break\n",
    "    return foundCity"
   ]
  },
  {
   "cell_type": "code",
   "execution_count": 6,
   "metadata": {},
   "outputs": [],
   "source": [
    "def three_word_list(words):\n",
    "    result = []\n",
    "    for i in range(len(words) - 2):\n",
    "        result.append(words[i] + ' ' + words[i+1] + ' ' + words[i+2])\n",
    "    return result"
   ]
  },
  {
   "cell_type": "code",
   "execution_count": 7,
   "metadata": {},
   "outputs": [],
   "source": [
    "def four_word_list(words):\n",
    "    result = []\n",
    "    for i in range(len(words) - 3):\n",
    "        result.append(words[i] + ' ' + words[i+1] + ' ' + words[i+2] + ' ' + words[i+3])\n",
    "    return result"
   ]
  },
  {
   "cell_type": "markdown",
   "metadata": {},
   "source": [
    "## Workhorse function\n",
    "\n",
    "For every line in file\n",
    "- remove special characters from line\n",
    "- break words into single, double, triple, and quadruple words list\n",
    "- find first city in words list\n",
    "- find first country in words list\n"
   ]
  },
  {
   "cell_type": "code",
   "execution_count": 8,
   "metadata": {},
   "outputs": [],
   "source": [
    "answers = []\n",
    "for line in lines:\n",
    "    answer = {'headline': line}\n",
    "    # remove the special charaters from the read string\n",
    "    no_specials_line = re.sub('[!#?,.:\";]', '', line)\n",
    "    # get words and compare to cities\n",
    "    words = no_specials_line.split()\n",
    "    double_words = list(map(' '.join, zip(words[:-1], words[1:])))\n",
    "    triple_words = three_word_list(words)\n",
    "    four_words = four_word_list(words)\n",
    "    reverse_words = four_words\n",
    "    reverse_words.extend(triple_words)\n",
    "    reverse_words.extend(double_words)\n",
    "    reverse_words.extend(words)\n",
    "    country=find_country_in_words(reverse_words)\n",
    "    answer['countries']=country\n",
    "    city=find_city_in_words(reverse_words)\n",
    "    answer['cities']=city\n",
    "    answers.append(answer)"
   ]
  },
  {
   "cell_type": "code",
   "execution_count": 9,
   "metadata": {},
   "outputs": [
    {
     "data": {
      "text/html": [
       "<div>\n",
       "<style scoped>\n",
       "    .dataframe tbody tr th:only-of-type {\n",
       "        vertical-align: middle;\n",
       "    }\n",
       "\n",
       "    .dataframe tbody tr th {\n",
       "        vertical-align: top;\n",
       "    }\n",
       "\n",
       "    .dataframe thead th {\n",
       "        text-align: right;\n",
       "    }\n",
       "</style>\n",
       "<table border=\"1\" class=\"dataframe\">\n",
       "  <thead>\n",
       "    <tr style=\"text-align: right;\">\n",
       "      <th></th>\n",
       "      <th>headline</th>\n",
       "      <th>countries</th>\n",
       "      <th>cities</th>\n",
       "    </tr>\n",
       "  </thead>\n",
       "  <tbody>\n",
       "    <tr>\n",
       "      <th>0</th>\n",
       "      <td>Zika Outbreak Hits Miami</td>\n",
       "      <td>None</td>\n",
       "      <td>Miami</td>\n",
       "    </tr>\n",
       "    <tr>\n",
       "      <th>1</th>\n",
       "      <td>Could Zika Reach New York City?</td>\n",
       "      <td>None</td>\n",
       "      <td>New York City</td>\n",
       "    </tr>\n",
       "    <tr>\n",
       "      <th>2</th>\n",
       "      <td>First Case of Zika in Miami Beach</td>\n",
       "      <td>None</td>\n",
       "      <td>Miami Beach</td>\n",
       "    </tr>\n",
       "    <tr>\n",
       "      <th>3</th>\n",
       "      <td>Mystery Virus Spreads in Recife, Brazil</td>\n",
       "      <td>Brazil</td>\n",
       "      <td>Recife</td>\n",
       "    </tr>\n",
       "    <tr>\n",
       "      <th>4</th>\n",
       "      <td>Dallas man comes down with case of Zika</td>\n",
       "      <td>None</td>\n",
       "      <td>Dallas</td>\n",
       "    </tr>\n",
       "  </tbody>\n",
       "</table>\n",
       "</div>"
      ],
      "text/plain": [
       "                                  headline countries         cities\n",
       "0                 Zika Outbreak Hits Miami      None          Miami\n",
       "1          Could Zika Reach New York City?      None  New York City\n",
       "2        First Case of Zika in Miami Beach      None    Miami Beach\n",
       "3  Mystery Virus Spreads in Recife, Brazil    Brazil         Recife\n",
       "4  Dallas man comes down with case of Zika      None         Dallas"
      ]
     },
     "execution_count": 9,
     "metadata": {},
     "output_type": "execute_result"
    }
   ],
   "source": [
    "df = pd.DataFrame(answers)\n",
    "df.head()"
   ]
  },
  {
   "cell_type": "code",
   "execution_count": null,
   "metadata": {},
   "outputs": [],
   "source": []
  }
 ],
 "metadata": {
  "kernelspec": {
   "display_name": "Python 3",
   "language": "python",
   "name": "python3"
  },
  "language_info": {
   "codemirror_mode": {
    "name": "ipython",
    "version": 3
   },
   "file_extension": ".py",
   "mimetype": "text/x-python",
   "name": "python",
   "nbconvert_exporter": "python",
   "pygments_lexer": "ipython3",
   "version": "3.7.6"
  }
 },
 "nbformat": 4,
 "nbformat_minor": 4
}
